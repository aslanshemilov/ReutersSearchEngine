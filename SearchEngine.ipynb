{
 "cells": [
  {
   "cell_type": "code",
   "execution_count": 2,
   "metadata": {
    "collapsed": true
   },
   "outputs": [],
   "source": [
    "import glob\n",
    "import time\n",
    "import nltk\n",
    "import collections\n",
    "import sys\n",
    "from math import *\n",
    "import json"
   ]
  },
  {
   "cell_type": "code",
   "execution_count": 7,
   "metadata": {
    "collapsed": true
   },
   "outputs": [],
   "source": [
    "#If there are n terms in the query, we must iterate n times.\n",
    "#For every term in the query, find the document length, average document length, and the \n",
    "    #frequency of the term in the document. Using the formula, add them all as the ranking\n",
    "    #score and use it as a statistic for the document.\n",
    "    \n",
    "def calculateRSVd(queryList, finalResult):\n",
    "    match = []\n",
    "    RSVd = 0;\n",
    "    for docID in finalResult:\n",
    "        for word in queryList: \n",
    "            if word == 'and':\n",
    "                pass\n",
    "            else:\n",
    "                match = calculateQueryWordRef(word, docID)\n",
    "                docLength = match[0]\n",
    "                termFrequencyInDoc = match[1]\n",
    "                docFrequency = match[2]\n",
    "                del match[:]\n",
    "                step1 = (1 - b) + b * (docLength / avgDocLength)\n",
    "                step2 = (k + 1) * termFrequencyInDoc / (k * step1 + termFrequencyInDoc)\n",
    "                RSVdq = log(float(docCounter / docFrequency)) * step2\n",
    "                \n",
    "                RSVd = RSVd + RSVdq\n",
    "                docRanking[docID] = RSVd\n",
    "                \n",
    "    return docRanking"
   ]
  },
  {
   "cell_type": "code",
   "execution_count": 8,
   "metadata": {
    "collapsed": true
   },
   "outputs": [],
   "source": [
    "def calculateQueryWordRef(key, docID):\n",
    "    #Initalization\n",
    "    match = []\n",
    "    dictAid = {}\n",
    "    fileName = \"final_dict.json\"\n",
    "    termFrequencyInDoc = 0\n",
    "    docFrequency = 0\n",
    "    #Convert key to lowercase\n",
    "    key = key.lower()\n",
    "    with open(filename, 'r') as json_file: \n",
    "        finalDict = json.load(json_file)\n",
    "        dictAid = finalDict.get(key)\n",
    "        if finalDict.has_key(key):\n",
    "            termFrequencyInDoc = dictAid.get(docID)\n",
    "            docFrequency = len(dictAid)\n",
    "            \n",
    "        match.append(docLength)\n",
    "        match.append(termFrequencyInDoc)\n",
    "        match.append(docFrequency)\n",
    "    json_file.close()\n",
    "    \n",
    "    return match"
   ]
  },
  {
   "cell_type": "code",
   "execution_count": 9,
   "metadata": {
    "collapsed": true
   },
   "outputs": [],
   "source": [
    "#Open JSON file and do single query\n",
    "def findMatch(key): \n",
    "    match = []\n",
    "    fileName = \"final_dict.json\"\n",
    "    #Convert key to lowercase\n",
    "    key = key.lower()\n",
    "    with open(filename, 'r') as json_file: \n",
    "        json_dict = json.load(json_file)\n",
    "        if json_dict.has_key(key):\n",
    "            for docID in json_dict[key].keys():\n",
    "                match.append(docID)\n",
    "        else:\n",
    "            print \"There is no key named\", key\n",
    "    json_file.close()\n",
    "    match.sort()\n",
    "    return match"
   ]
  },
  {
   "cell_type": "code",
   "execution_count": 10,
   "metadata": {
    "collapsed": true
   },
   "outputs": [],
   "source": [
    "def sortMatch(list):\n",
    "    newList = []\n",
    "    for word in list: \n",
    "        word = int(word)\n",
    "        newList.append(word)\n",
    "    newList.sort()\n",
    "    for word in newList: \n",
    "        word = \"u'    \" + str(word) + \"   '\"\n",
    "    print 'list is', newList\n",
    "    return newList"
   ]
  },
  {
   "cell_type": "code",
   "execution_count": 11,
   "metadata": {
    "collapsed": true
   },
   "outputs": [],
   "source": [
    "def singleWordQuery(queryList):\n",
    "    newMatch = {}\n",
    "    result_and = []\n",
    "    for key in queryList:\n",
    "        match = findMatch(key)\n",
    "        newMatch[key] = sorted(match[key])\n",
    "        print key, 'exists in : ', newMatch[key], 'docs'"
   ]
  },
  {
   "cell_type": "code",
   "execution_count": 12,
   "metadata": {
    "collapsed": true
   },
   "outputs": [],
   "source": [
    "def stopWords30(word):\n",
    "    words30= ['',' ','a', 'about', 'above', 'across', 'after', \n",
    "              'again', 'against','all',\n",
    "              'almost','alone','along','already','also',\n",
    "              'although','always','among','an','and',\n",
    "              'another','any','anybody','anyone','anything','anywhere','are',' ','areas',\n",
    "              'around','as','\\n']\n",
    "    if word in words30: \n",
    "        x = True\n",
    "        return x;\n",
    "    else: \n",
    "        x = False\n",
    "        return x\n",
    "    \n",
    "def stopWords150(word):\n",
    "    words150 = ['',' ','\\n','a', 'about', 'above', 'after', 'again', 'against', 'all', \n",
    "                'almost', 'alone', 'along', 'already', 'also', 'although', 'always', 'an', \n",
    "                'and', 'another', 'any', 'anybody', 'anyone', 'anything', 'anywhere', 'around', \n",
    "                'as', 'at', 'away', 'been', 'but', 'even', 'evenly', 'ever', 'every', 'everybody', \n",
    "                'everyone', 'everything', 'everywhere', 'for', 'had', 'has', 'have', 'he', 'her', \n",
    "                'here', 'herself', 'higher', 'highest', 'him', 'himself', 'his', 'how', 'however', \n",
    "                'if', 'in', 'interests', 'interesting', 'into', 'is', 'it', 'its', 'itself', 'just', \n",
    "                'last', 'me', 'might', 'more', 'most', 'mostly', 'mr', 'mrs', 'much', 'must', 'my', 'myself', \n",
    "                'of', 'off', 'often', 'on', 'once', 'only', 'or', 'other', 'others', 'our', 'out', 'over', \n",
    "                'second', 'seconds', 'seem', 'seemed', 'seeming', 'seems', 'sees', 'several', 'shall', \n",
    "                'she', 'should', 'since', 'so', 'some', 'somebody', 'someone', 'something', 'somewhere', \n",
    "                'still', 'such', 'than', 'that', 'the', 'their', 'them', 'then', 'there', 'therefore', \n",
    "                'these', 'they', 'things', 'this', 'those', 'though', 'thoughts', 'through', 'thus', \n",
    "                'to', 'too', 'until', 'us', 'very', 'was', 'ways', 'we', 'were', 'what', 'when', 'where', \n",
    "                'whether', 'which', 'while', 'who', 'whole', 'whose', 'why', 'will', 'with', 'within', 'without', \n",
    "                'would', 'yet', 'you', 'your', 'yours']\n",
    "    if word in words150:\n",
    "        x = True\n",
    "        return x;\n",
    "    else:\n",
    "        x = False\n",
    "        return x"
   ]
  },
  {
   "cell_type": "code",
   "execution_count": null,
   "metadata": {
    "collapsed": true
   },
   "outputs": [],
   "source": [
    "def mergeTokenDict(dict1, dict2):\n",
    "    for key in dict2.keys():\n",
    "        if key in dict1.keys():\n",
    "            for docID in dict2[key].keys():\n",
    "                if docid in dict1[key].keys():\n",
    "                    dict1[key][docid] += dict2[key][docid]\n",
    "                else:\n",
    "                    dict1[key][docid] = dict2[key][docid]\n",
    "        else:\n",
    "            dict1[key] = dict2[key]\n",
    "    return dict1\n",
    "\n",
    "            \n",
    "def ranking(queryList, finalResult):\n",
    "    if(len)"
   ]
  }
 ],
 "metadata": {
  "kernelspec": {
   "display_name": "Python 2",
   "language": "python",
   "name": "python2"
  },
  "language_info": {
   "codemirror_mode": {
    "name": "ipython",
    "version": 2
   },
   "file_extension": ".py",
   "mimetype": "text/x-python",
   "name": "python",
   "nbconvert_exporter": "python",
   "pygments_lexer": "ipython2",
   "version": "2.7.13"
  }
 },
 "nbformat": 4,
 "nbformat_minor": 2
}
